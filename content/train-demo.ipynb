{
 "cells": [
  {
   "cell_type": "markdown",
   "id": "6f3661cd",
   "metadata": {},
   "source": [
    "# Low code Example\n",
    "\n",
    "\n",
    "We have developed a Python module that allows for a low-code version\n",
    "that will visualize the unplugged activity in a website or jupyter notebook.\n",
    "\n",
    "It has some dependencies, so first, install those: \n"
   ]
  },
  {
   "cell_type": "code",
   "execution_count": null,
   "id": "5f0b3cf5",
   "metadata": {},
   "outputs": [],
   "source": [
    "%pip install svg.py numpy matplotlib pandas"
   ]
  },
  {
   "cell_type": "markdown",
   "id": "1b3a47ce",
   "metadata": {},
   "source": [
    "Next, we will import the library. \n",
    "\n",
    "The package is currently not broadly installable (not packaged), here we locally import it"
   ]
  },
  {
   "cell_type": "code",
   "execution_count": null,
   "id": "9f1a76fe",
   "metadata": {},
   "outputs": [],
   "source": [
    "from lmunplugged import Bin,Table, Ball, Sticky, Doc, TrainDemo"
   ]
  },
  {
   "cell_type": "markdown",
   "id": "e46a3bb0",
   "metadata": {},
   "source": [
    "## Visualizing the training process \n",
    "\n",
    "We can prepare to demo the training process from a fixed document:"
   ]
  },
  {
   "cell_type": "code",
   "execution_count": null,
   "id": "6b46206d",
   "metadata": {},
   "outputs": [],
   "source": [
    "train_doc = Doc.from_list(['green','blue','purple','blue','pink','blue','white'],\n",
    "                    max_width_words = 5) # this makes it so that the document is not too wide to fit on the screen\n",
    "to_train = Table.from_list(['purple','blue','green','pink'])\n",
    "\n",
    "my_demo = TrainDemo(to_train, train_doc)\n",
    "my_demo"
   ]
  },
  {
   "cell_type": "markdown",
   "id": "8740d9ef",
   "metadata": {},
   "source": [
    "and train:"
   ]
  },
  {
   "cell_type": "code",
   "execution_count": null,
   "id": "92e14bc5",
   "metadata": {},
   "outputs": [],
   "source": [
    "my_demo.train_step(1)"
   ]
  },
  {
   "cell_type": "code",
   "execution_count": null,
   "id": "cbc5e76f",
   "metadata": {},
   "outputs": [],
   "source": [
    "my_demo.train_step(2)"
   ]
  },
  {
   "cell_type": "code",
   "execution_count": null,
   "id": "eaef4e3a",
   "metadata": {},
   "outputs": [],
   "source": [
    "my_demo.train_step(3)"
   ]
  },
  {
   "cell_type": "code",
   "execution_count": null,
   "id": "dc93203a",
   "metadata": {},
   "outputs": [],
   "source": [
    "my_demo.train_step(4)"
   ]
  },
  {
   "cell_type": "code",
   "execution_count": null,
   "id": "ced74a30",
   "metadata": {},
   "outputs": [],
   "source": [
    "my_demo.train_step(5)"
   ]
  },
  {
   "cell_type": "code",
   "execution_count": null,
   "id": "2fecf971",
   "metadata": {},
   "outputs": [],
   "source": [
    "my_demo.train_step(6)"
   ]
  },
  {
   "cell_type": "markdown",
   "id": "f1c19066",
   "metadata": {},
   "source": [
    "Now create another training document of your own"
   ]
  },
  {
   "cell_type": "code",
   "execution_count": null,
   "id": "0aa0e8c0",
   "metadata": {},
   "outputs": [],
   "source": [
    "my_doc = ['purple','white']\n",
    "my_demo.doc = Doc.from_list(my_doc),\n",
    "                    max_width_words = 5)\n",
    "my_demo"
   ]
  },
  {
   "cell_type": "markdown",
   "id": "f08c0c1c",
   "metadata": {},
   "source": [
    "And then train on your document!"
   ]
  },
  {
   "cell_type": "code",
   "execution_count": null,
   "id": "fbeefe90",
   "metadata": {},
   "outputs": [],
   "source": [
    "my_demo.train_step(1)"
   ]
  },
  {
   "cell_type": "markdown",
   "id": "78ecf9f6",
   "metadata": {},
   "source": [
    "Add a loop to complete the training on your document"
   ]
  },
  {
   "cell_type": "code",
   "execution_count": null,
   "id": "089ede8e",
   "metadata": {},
   "outputs": [],
   "source": []
  },
  {
   "cell_type": "markdown",
   "id": "c264c27f",
   "metadata": {},
   "source": [
    "And now try sampling from the model you have trained on these two documents"
   ]
  },
  {
   "cell_type": "code",
   "execution_count": null,
   "id": "c4998568",
   "metadata": {},
   "outputs": [],
   "source": []
  }
 ],
 "metadata": {
  "jupytext": {
   "default_lexer": "python"
  },
  "kernelspec": {
   "display_name": "Python 3",
   "name": "python3"
  },
  "language_info": {
   "codemirror_mode": {
    "name": "ipython",
    "version": 3
   },
   "file_extension": ".py",
   "mimetype": "text/x-python",
   "name": "python",
   "nbconvert_exporter": "python",
   "pygments_lexer": "ipython3",
   "version": "3.13.3"
  }
 },
 "nbformat": 4,
 "nbformat_minor": 5
}
