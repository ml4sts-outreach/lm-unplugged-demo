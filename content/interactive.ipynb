{
 "cells": [
  {
   "cell_type": "markdown",
   "id": "ca82046e",
   "metadata": {},
   "source": [
    "# Interactive use\n",
    "\n",
    "This notebook includes an interactive demonstration"
   ]
  },
  {
   "cell_type": "code",
   "execution_count": null,
   "id": "a0d2aa2d",
   "metadata": {},
   "outputs": [],
   "source": [
    "%pip install svg.py numpy matplotlib pandas ipywidgets"
   ]
  },
  {
   "cell_type": "code",
   "execution_count": 1,
   "id": "8ceb0cd7",
   "metadata": {
    "tags": [
     "remove-cell"
    ]
   },
   "outputs": [],
   "source": [
    "from lmunplugged import Bin,Table, Ball, Sticky, Doc, TrainDemo\n",
    "import ipywidgets as widgets\n",
    "from IPython.display import display, Markdown, HTML"
   ]
  },
  {
   "cell_type": "markdown",
   "id": "f0fde79c",
   "metadata": {},
   "source": [
    "The next cell will create an interactive interface you can use to experiment with the training process. It does not yet handle the end document well, it will cycle back to the beginning if you press train an additional time after it adds the white ball. "
   ]
  },
  {
   "cell_type": "code",
   "execution_count": null,
   "id": "1fa2e2f1",
   "metadata": {
    "tags": [
     "remove-cell"
    ]
   },
   "outputs": [],
   "source": [
    "# TODO: fix this demo to use Doc.is_valid and to disable buttons at end of doc instead of resetting\n",
    "initital_doc = ['green','blue','purple','blue','pink','blue','white']\n",
    "bin_colors = ['purple','blue','green','pink']\n",
    "allowed_colors = bin_colors + ['white']\n",
    "color_tags = widgets.ColorsInput(\n",
    "    value=initital_doc,\n",
    "    allowed_tags=allowed_colors,\n",
    "    # allow_duplicates=False\n",
    ")\n",
    "\n",
    "my_doc = Doc.from_list(color_tags.value,max_width_words=5)\n",
    "to_train = Table.from_list(bin_colors)\n",
    "\n",
    "my_demo = TrainDemo(to_train, my_doc)\n",
    "\n",
    "html_output_demo= widgets.Output()\n",
    "with html_output_demo:\n",
    "    display(my_demo)\n",
    "\n",
    "def set_demo_button(b):\n",
    "    my_demo.doc.reset_words(color_tags.value)\n",
    "    my_demo.reset_training()\n",
    "    with html_output_demo:\n",
    "        html_output_demo.clear_output(wait=True)\n",
    "        display(my_demo)\n",
    "\n",
    "\n",
    "def train_step(b):    \n",
    "    with html_output_demo:\n",
    "        html_output_demo.clear_output(wait=True)\n",
    "        display(my_demo.train_next())\n",
    "\n",
    "\n",
    "\n",
    "demo_button = widgets.Button(\n",
    "    description=\"load doc\",\n",
    "    button_style='info', \n",
    "    layout=widgets.Layout(width='100px', height='30px')\n",
    ")\n",
    "\n",
    "step_button = widgets.Button(\n",
    "    description=\"step\",\n",
    "    button_style='success', \n",
    "    layout=widgets.Layout(width='100px', height='30px')\n",
    ")\n",
    "\n",
    "demo_button.on_click(set_demo_button)\n",
    "step_button.on_click(train_step)\n",
    "demo_ctrl = widgets.HBox([ demo_button,step_button])\n",
    "layout = widgets.VBox([color_tags,demo_ctrl,html_output_demo])"
   ]
  },
  {
   "cell_type": "code",
   "execution_count": null,
   "id": "18da0b9e",
   "metadata": {},
   "outputs": [],
   "source": [
    "display(layout)"
   ]
  }
 ],
 "metadata": {
  "jupytext": {
   "default_lexer": "python"
  },
  "kernelspec": {
   "display_name": "Python 3",
   "name": "python3"
  },
  "language_info": {
   "codemirror_mode": {
    "name": "ipython",
    "version": 3
   },
   "file_extension": ".py",
   "mimetype": "text/x-python",
   "name": "python",
   "nbconvert_exporter": "python",
   "pygments_lexer": "ipython3",
   "version": "3.13.3"
  }
 },
 "nbformat": 4,
 "nbformat_minor": 5
}
