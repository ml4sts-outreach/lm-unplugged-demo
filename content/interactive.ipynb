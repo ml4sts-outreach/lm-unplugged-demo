{
 "cells": [
  {
   "cell_type": "markdown",
   "id": "ca82046e",
   "metadata": {},
   "source": [
    "# Interactive use\n",
    "\n",
    "This notebook includes an interactive demonstration.  First, we set up the environment, by installing then loading the dependencies:"
   ]
  },
  {
   "cell_type": "code",
   "execution_count": null,
   "id": "a0d2aa2d",
   "metadata": {},
   "outputs": [],
   "source": [
    "# for jupyter lite (if you are not working locally, run this cell to install the dependencies)\n",
    "%pip install svg.py numpy matplotlib pandas ipywidgets"
   ]
  },
  {
   "cell_type": "code",
   "execution_count": null,
   "id": "8ceb0cd7",
   "metadata": {
    "tags": [
     "remove-cell"
    ]
   },
   "outputs": [],
   "source": [
    "from lmunplugged import Bin,Table, Ball, Sticky, Doc, TrainDemo\n",
    "import ipywidgets as widgets\n",
    "from IPython.display import display, Markdown, HTML"
   ]
  },
  {
   "cell_type": "markdown",
   "id": "f0fde79c",
   "metadata": {},
   "source": [
    "The next cell will create an interactive interface you can use to experiment with the training process. It does not yet handle the end document well, it will cycle back to the beginning if you press train an additional time after it adds the white ball. "
   ]
  },
  {
   "cell_type": "code",
   "execution_count": null,
   "id": "1fa2e2f1",
   "metadata": {
    "tags": [
     "remove-cell"
    ]
   },
   "outputs": [],
   "source": [
    "# This puts custom CSS in so that the words in the \"author\" space are bigger\n",
    "display(HTML(\"\"\"\n",
    "<style>\n",
    ".jupyter-widget-tag { \n",
    "    width: 70px;\n",
    "    height: 50px;\n",
    "}\n",
    "</style>\n",
    "\"\"\"))\n",
    "\n",
    "\n",
    "initital_doc = ['green','blue','purple','blue','pink','blue','white']\n",
    "bin_colors = ['purple','blue','green','pink']\n",
    "allowed_colors = bin_colors + ['white']\n",
    "color_tags = widgets.ColorsInput(\n",
    "    value=initital_doc,\n",
    "    allowed_tags=allowed_colors,\n",
    "    # allow_duplicates=False\n",
    ")\n",
    "\n",
    "my_doc = Doc.from_list(color_tags.value,max_width_words=5)\n",
    "to_train = Table.from_list(bin_colors)\n",
    "\n",
    "my_demo = TrainDemo(to_train, my_doc)\n",
    "\n",
    "html_output_demo= widgets.Output()\n",
    "with html_output_demo:\n",
    "    display(my_demo)\n",
    "\n",
    "def set_demo_button(b):\n",
    "    my_demo.doc.reset_words(color_tags.value)\n",
    "    my_demo.reset_training()\n",
    "    with html_output_demo:\n",
    "        html_output_demo.clear_output(wait=True)\n",
    "        display(my_demo)\n",
    "\n",
    "\n",
    "def train_step(b):    \n",
    "    with html_output_demo:\n",
    "        html_output_demo.clear_output(wait=True)\n",
    "        display(my_demo.train_next())\n",
    "\n",
    "\n",
    "\n",
    "demo_button = widgets.Button(\n",
    "    description=\"load doc\",\n",
    "    button_style='info', \n",
    "    layout=widgets.Layout(width='100px', height='30px')\n",
    ")\n",
    "\n",
    "step_button = widgets.Button(\n",
    "    description=\"step\",\n",
    "    button_style='success', \n",
    "    layout=widgets.Layout(width='100px', height='30px')\n",
    ")\n",
    "\n",
    "demo_button.on_click(set_demo_button)\n",
    "step_button.on_click(train_step)\n",
    "document = widgets.VBox([\n",
    "    widgets.HTML(\"<h2>Interactive Training Demo</h2>\"),\n",
    "    widgets.HTML(\"<p>Mimic training a tiny language model from a\" \\\n",
    "    \" document comprised of sticky notes. Use the x to remove or \" \\\n",
    "    \"click to the right of the last colored rectangle and choose \"\n",
    "    \"a color to add one. Drag and drop them re-order. \"\n",
    "    \"Be sure the last one is white.</p>\"),\n",
    "    color_tags,\n",
    "    widgets.HTML(\"<p>When you want to train, click the \"\n",
    "                 \"'load document' button below to load the your \"\n",
    "                 \"document, then click 'step' to train the model.</p>\")\n",
    "])\n",
    "demo_ctrl = widgets.HBox([ demo_button,step_button])\n",
    "layout_train = widgets.VBox([document,demo_ctrl,html_output_demo])"
   ]
  },
  {
   "cell_type": "markdown",
   "id": "8fa1c112",
   "metadata": {},
   "source": [
    "Finally, the following cell actually **shows** the interactive training demo.  You can create your own training file by edi"
   ]
  },
  {
   "cell_type": "code",
   "execution_count": null,
   "id": "18da0b9e",
   "metadata": {},
   "outputs": [],
   "source": [
    "display(layout_train)"
   ]
  },
  {
   "cell_type": "markdown",
   "id": "3112fdbf",
   "metadata": {},
   "source": [
    "## Sampling\n",
    "\n",
    "the next cell defines an interactive sampling and prompting setup"
   ]
  },
  {
   "cell_type": "code",
   "execution_count": null,
   "id": "7f40a7a7",
   "metadata": {},
   "outputs": [],
   "source": [
    "prompter_toggle = widgets.ToggleButtons(\n",
    "    options=bin_colors,\n",
    "    description='Prompt:',\n",
    "    disabled=False,\n",
    "    button_style='', \n",
    "    # 'success', 'info', 'warning', 'danger' or ''\n",
    "#     icons=['check'] * 3\n",
    ")\n",
    "button_list = [widgets.Button(description='        ',\n",
    "    style={'button_color': Sticky(cur_color).color}, \n",
    "    layout=widgets.Layout(width='70px', height='50px'),\n",
    "    )  for cur_color in bin_colors]\n",
    "\n",
    "# [bt.on_click(lambda b: prompt(b,color=cur_color)) for bt, cur_color in zip(button_list, bin_colors)]\n",
    "button_list[0].on_click(lambda b: prompt(b,color=bin_colors[0]))\n",
    "button_list[1].on_click(lambda b: prompt(b,color=bin_colors[1]))\n",
    "button_list[2].on_click(lambda b: prompt(b,color=bin_colors[2]))\n",
    "button_list[3].on_click(lambda b: prompt(b,color=bin_colors[3]))\n",
    "# btfx = [lambda b: prompt(b,color=cur_color) \n",
    "#            for cur_color in bin_colors]\n",
    "\n",
    "# [bt.on_click(fx) \n",
    "#            for bt, fx in zip(button_list, btfx)]\n",
    "\n",
    "# button_list[2].style.button_color = 'lightblue'  # Highlight the blue button\n",
    "prompter_buttons = widgets.HBox(button_list)\n",
    "\n",
    "prompter_color = widgets.ColorsInput(\n",
    "    value=[],\n",
    "    allowed_tags=bin_colors,\n",
    "    # allow_duplicates=False\n",
    ")\n",
    "\n",
    "doc = Doc([\"white\"],max_width_words=5)\n",
    "html_output_sampler= widgets.Output()\n",
    "with html_output_sampler:\n",
    "    display(doc)\n",
    "\n",
    "load_button = widgets.Button(\n",
    "    description=\"select prompt\",\n",
    "    button_style='info', \n",
    "    layout=widgets.Layout(width='100px', height='30px')\n",
    ")\n",
    "def prompt(b, color):\n",
    "    with html_output_sampler:\n",
    "        \n",
    "    # my_demo.doc.reset_words(color_tags.value)\n",
    "        html_output_sampler.clear_output(wait=True)\n",
    "        doc.reset_words([color])\n",
    "        display(doc)\n",
    "        # display(to_train.sample_doc(prompter.value))\n",
    "\n",
    "sample_button = widgets.Button(\n",
    "    description=\"sample\",\n",
    "    button_style='info', \n",
    "    layout=widgets.Layout(width='100px', height='30px',background_color='lightblue'),\n",
    ")\n",
    "\n",
    "\n",
    "def sample(b):\n",
    "    with html_output_sampler:\n",
    "        html_output_sampler.clear_output(wait=True)\n",
    "        # doc.reset_words(prompter_color.value)\n",
    "        display(to_train.sample_doc(doc.get_word(0).name))\n",
    "\n",
    "\n",
    "\n",
    "load_button.on_click(prompt)\n",
    "sample_button.on_click(sample)\n",
    "# to_train.sample_doc('green')\n",
    "\n",
    "controls = widgets.HBox([prompter_buttons,sample_button])\n",
    "\n",
    "sampler = widgets.VBox([\n",
    "    widgets.HTML(\"<h2>Interactive Sampling Demo</h2>\"),\n",
    "    widgets.HTML(\"<p>click a sticky to prompt in that color then \" \\\n",
    "    \" click sample to get a document.</p>\"),controls,html_output_sampler])"
   ]
  },
  {
   "cell_type": "markdown",
   "id": "89b38813",
   "metadata": {},
   "source": [
    "The next cell displays the sampling demo:"
   ]
  },
  {
   "cell_type": "code",
   "execution_count": null,
   "id": "bbc7b2a8",
   "metadata": {},
   "outputs": [],
   "source": [
    "display(sampler)"
   ]
  },
  {
   "cell_type": "markdown",
   "id": "03642afe",
   "metadata": {},
   "source": [
    "## Try it as code\n",
    "\n",
    "Now choose one of the other notebooks (from the files on the left) or the links below:\n",
    "\n",
    "- [Work with a pretrained notebook](pretrained.ipynb)\n",
    "- [Train a model](train-demo.ipynb)\n",
    "- [Use components to make your own demo](components.ipynb)"
   ]
  },
  {
   "cell_type": "markdown",
   "id": "f4cb01a7",
   "metadata": {},
   "source": []
  }
 ],
 "metadata": {
  "jupytext": {
   "default_lexer": "python"
  },
  "kernelspec": {
   "display_name": "Python 3",
   "name": "python3"
  },
  "language_info": {
   "codemirror_mode": {
    "name": "ipython",
    "version": 3
   },
   "file_extension": ".py",
   "mimetype": "text/x-python",
   "name": "python",
   "nbconvert_exporter": "python",
   "pygments_lexer": "ipython3",
   "version": "3.13.3"
  }
 },
 "nbformat": 4,
 "nbformat_minor": 5
}
