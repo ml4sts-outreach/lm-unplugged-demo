{
 "cells": [
  {
   "cell_type": "markdown",
   "id": "ca82046e",
   "metadata": {},
   "source": [
    "# Interactive use\n",
    "\n",
    "This notebook includes an interactive demonstration.  First, we set up the environment, by installing then loading the dependencies:"
   ]
  },
  {
   "cell_type": "code",
   "execution_count": 1,
   "id": "a0d2aa2d",
   "metadata": {},
   "outputs": [
    {
     "name": "stdout",
     "output_type": "stream",
     "text": [
      "Requirement already satisfied: svg.py in /Library/Frameworks/Python.framework/Versions/3.13/lib/python3.13/site-packages (1.6.0)\n",
      "Requirement already satisfied: numpy in /Library/Frameworks/Python.framework/Versions/3.13/lib/python3.13/site-packages (2.3.1)\n",
      "Requirement already satisfied: matplotlib in /Library/Frameworks/Python.framework/Versions/3.13/lib/python3.13/site-packages (3.10.3)\n",
      "Requirement already satisfied: pandas in /Library/Frameworks/Python.framework/Versions/3.13/lib/python3.13/site-packages (2.2.3)\n",
      "Requirement already satisfied: ipywidgets in /Library/Frameworks/Python.framework/Versions/3.13/lib/python3.13/site-packages (8.1.6)\n",
      "Requirement already satisfied: contourpy>=1.0.1 in /Library/Frameworks/Python.framework/Versions/3.13/lib/python3.13/site-packages (from matplotlib) (1.3.2)\n",
      "Requirement already satisfied: cycler>=0.10 in /Library/Frameworks/Python.framework/Versions/3.13/lib/python3.13/site-packages (from matplotlib) (0.12.1)\n",
      "Requirement already satisfied: fonttools>=4.22.0 in /Library/Frameworks/Python.framework/Versions/3.13/lib/python3.13/site-packages (from matplotlib) (4.57.0)\n",
      "Requirement already satisfied: kiwisolver>=1.3.1 in /Library/Frameworks/Python.framework/Versions/3.13/lib/python3.13/site-packages (from matplotlib) (1.4.8)\n",
      "Requirement already satisfied: packaging>=20.0 in /Library/Frameworks/Python.framework/Versions/3.13/lib/python3.13/site-packages (from matplotlib) (25.0)\n",
      "Requirement already satisfied: pillow>=8 in /Library/Frameworks/Python.framework/Versions/3.13/lib/python3.13/site-packages (from matplotlib) (11.2.1)\n",
      "Requirement already satisfied: pyparsing>=2.3.1 in /Library/Frameworks/Python.framework/Versions/3.13/lib/python3.13/site-packages (from matplotlib) (3.2.3)\n",
      "Requirement already satisfied: python-dateutil>=2.7 in /Library/Frameworks/Python.framework/Versions/3.13/lib/python3.13/site-packages (from matplotlib) (2.9.0.post0)\n",
      "Requirement already satisfied: pytz>=2020.1 in /Library/Frameworks/Python.framework/Versions/3.13/lib/python3.13/site-packages (from pandas) (2025.2)\n",
      "Requirement already satisfied: tzdata>=2022.7 in /Library/Frameworks/Python.framework/Versions/3.13/lib/python3.13/site-packages (from pandas) (2025.2)\n",
      "Requirement already satisfied: comm>=0.1.3 in /Library/Frameworks/Python.framework/Versions/3.13/lib/python3.13/site-packages (from ipywidgets) (0.2.2)\n",
      "Requirement already satisfied: ipython>=6.1.0 in /Library/Frameworks/Python.framework/Versions/3.13/lib/python3.13/site-packages (from ipywidgets) (9.2.0)\n",
      "Requirement already satisfied: traitlets>=4.3.1 in /Library/Frameworks/Python.framework/Versions/3.13/lib/python3.13/site-packages (from ipywidgets) (5.14.3)\n",
      "Requirement already satisfied: widgetsnbextension~=4.0.14 in /Library/Frameworks/Python.framework/Versions/3.13/lib/python3.13/site-packages (from ipywidgets) (4.0.14)\n",
      "Requirement already satisfied: jupyterlab_widgets~=3.0.14 in /Library/Frameworks/Python.framework/Versions/3.13/lib/python3.13/site-packages (from ipywidgets) (3.0.14)\n",
      "Requirement already satisfied: decorator in /Library/Frameworks/Python.framework/Versions/3.13/lib/python3.13/site-packages (from ipython>=6.1.0->ipywidgets) (5.2.1)\n",
      "Requirement already satisfied: ipython-pygments-lexers in /Library/Frameworks/Python.framework/Versions/3.13/lib/python3.13/site-packages (from ipython>=6.1.0->ipywidgets) (1.1.1)\n",
      "Requirement already satisfied: jedi>=0.16 in /Library/Frameworks/Python.framework/Versions/3.13/lib/python3.13/site-packages (from ipython>=6.1.0->ipywidgets) (0.19.2)\n",
      "Requirement already satisfied: matplotlib-inline in /Library/Frameworks/Python.framework/Versions/3.13/lib/python3.13/site-packages (from ipython>=6.1.0->ipywidgets) (0.1.7)\n",
      "Requirement already satisfied: pexpect>4.3 in /Library/Frameworks/Python.framework/Versions/3.13/lib/python3.13/site-packages (from ipython>=6.1.0->ipywidgets) (4.9.0)\n",
      "Requirement already satisfied: prompt_toolkit<3.1.0,>=3.0.41 in /Library/Frameworks/Python.framework/Versions/3.13/lib/python3.13/site-packages (from ipython>=6.1.0->ipywidgets) (3.0.51)\n",
      "Requirement already satisfied: pygments>=2.4.0 in /Library/Frameworks/Python.framework/Versions/3.13/lib/python3.13/site-packages (from ipython>=6.1.0->ipywidgets) (2.19.1)\n",
      "Requirement already satisfied: stack_data in /Library/Frameworks/Python.framework/Versions/3.13/lib/python3.13/site-packages (from ipython>=6.1.0->ipywidgets) (0.6.3)\n",
      "Requirement already satisfied: wcwidth in /Library/Frameworks/Python.framework/Versions/3.13/lib/python3.13/site-packages (from prompt_toolkit<3.1.0,>=3.0.41->ipython>=6.1.0->ipywidgets) (0.2.13)\n",
      "Requirement already satisfied: parso<0.9.0,>=0.8.4 in /Library/Frameworks/Python.framework/Versions/3.13/lib/python3.13/site-packages (from jedi>=0.16->ipython>=6.1.0->ipywidgets) (0.8.4)\n",
      "Requirement already satisfied: ptyprocess>=0.5 in /Library/Frameworks/Python.framework/Versions/3.13/lib/python3.13/site-packages (from pexpect>4.3->ipython>=6.1.0->ipywidgets) (0.7.0)\n",
      "Requirement already satisfied: six>=1.5 in /Library/Frameworks/Python.framework/Versions/3.13/lib/python3.13/site-packages (from python-dateutil>=2.7->matplotlib) (1.17.0)\n",
      "Requirement already satisfied: executing>=1.2.0 in /Library/Frameworks/Python.framework/Versions/3.13/lib/python3.13/site-packages (from stack_data->ipython>=6.1.0->ipywidgets) (2.2.0)\n",
      "Requirement already satisfied: asttokens>=2.1.0 in /Library/Frameworks/Python.framework/Versions/3.13/lib/python3.13/site-packages (from stack_data->ipython>=6.1.0->ipywidgets) (3.0.0)\n",
      "Requirement already satisfied: pure-eval in /Library/Frameworks/Python.framework/Versions/3.13/lib/python3.13/site-packages (from stack_data->ipython>=6.1.0->ipywidgets) (0.2.3)\n",
      "Note: you may need to restart the kernel to use updated packages.\n"
     ]
    }
   ],
   "source": [
    "# for jupyter lite (if you are not working locally, run this cell to install the dependencies)\n",
    "%pip install svg.py numpy matplotlib pandas ipywidgets"
   ]
  },
  {
   "cell_type": "code",
   "execution_count": 1,
   "id": "8ceb0cd7",
   "metadata": {
    "tags": [
     "remove-cell"
    ]
   },
   "outputs": [],
   "source": [
    "from lmunplugged import Bin,Table, Ball, Sticky, Doc, TrainDemo\n",
    "import ipywidgets as widgets\n",
    "from IPython.display import display, Markdown, HTML"
   ]
  },
  {
   "cell_type": "markdown",
   "id": "f0fde79c",
   "metadata": {},
   "source": [
    "The next cell will create an interactive interface you can use to experiment with the training process. It does not yet handle the end document well, it will cycle back to the beginning if you press train an additional time after it adds the white ball. "
   ]
  },
  {
   "cell_type": "code",
   "execution_count": null,
   "id": "1fa2e2f1",
   "metadata": {
    "tags": [
     "remove-cell"
    ]
   },
   "outputs": [
    {
     "data": {
      "text/html": [
       "\n",
       "<style>\n",
       ".jupyter-widget-tag { \n",
       "    width: 70px;\n",
       "    height: 50px;\n",
       "}\n",
       "</style>\n"
      ],
      "text/plain": [
       "<IPython.core.display.HTML object>"
      ]
     },
     "metadata": {},
     "output_type": "display_data"
    }
   ],
   "source": [
    "# This puts custom CSS in so that the words in the \"author\" space are bigger\n",
    "display(HTML(\"\"\"\n",
    "<style>\n",
    ".jupyter-widget-tag { \n",
    "    width: 70px;\n",
    "    height: 50px;\n",
    "}\n",
    "</style>\n",
    "\"\"\"))\n",
    "\n",
    "\n",
    "initital_doc = ['green','blue','purple','blue','pink','blue','white']\n",
    "bin_colors = ['purple','blue','green','pink']\n",
    "allowed_colors = bin_colors + ['white']\n",
    "color_tags = widgets.ColorsInput(\n",
    "    value=initital_doc,\n",
    "    allowed_tags=allowed_colors,\n",
    "    # allow_duplicates=False\n",
    ")\n",
    "\n",
    "my_doc = Doc.from_list(color_tags.value,max_width_words=5)\n",
    "to_train = Table.from_list(bin_colors)\n",
    "\n",
    "my_demo = TrainDemo(to_train, my_doc)\n",
    "\n",
    "html_output_demo= widgets.Output()\n",
    "with html_output_demo:\n",
    "    display(my_demo)\n",
    "\n",
    "def set_demo_button(b):\n",
    "    my_demo.doc.reset_words(color_tags.value)\n",
    "    my_demo.reset_training()\n",
    "    with html_output_demo:\n",
    "        html_output_demo.clear_output(wait=True)\n",
    "        display(my_demo)\n",
    "\n",
    "\n",
    "def train_step(b):    \n",
    "    with html_output_demo:\n",
    "        html_output_demo.clear_output(wait=True)\n",
    "        display(my_demo.train_next())\n",
    "\n",
    "\n",
    "\n",
    "demo_button = widgets.Button(\n",
    "    description=\"load doc\",\n",
    "    button_style='info', \n",
    "    layout=widgets.Layout(width='100px', height='30px')\n",
    ")\n",
    "\n",
    "step_button = widgets.Button(\n",
    "    description=\"step\",\n",
    "    button_style='success', \n",
    "    layout=widgets.Layout(width='100px', height='30px')\n",
    ")\n",
    "\n",
    "demo_button.on_click(set_demo_button)\n",
    "step_button.on_click(train_step)\n",
    "document = widgets.VBox([\n",
    "    widgets.HTML(\"<h2>Interactive Training Demo</h2>\"),\n",
    "    widgets.HTML(\"<p>Mimic training a tiny language model from a\" \\\n",
    "    \" document comprised of sticky notes. Use the x to remove or \" \\\n",
    "    \"click to the right of the last colored rectangle and choose \"\n",
    "    \"a color to add one. Drag and drop them re-order. \"\n",
    "    \"Be sure the last one is white.</p>\"),\n",
    "    color_tags,\n",
    "    widgets.HTML(\"<p>When you want to train, click the \"\n",
    "                 \"'load document' button below to load the your \"\n",
    "                 \"document, then click 'step' to train the model.</p>\")\n",
    "])\n",
    "demo_ctrl = widgets.HBox([ demo_button,step_button])\n",
    "layout_train = widgets.VBox([document,demo_ctrl,html_output_demo])"
   ]
  },
  {
   "cell_type": "markdown",
   "id": "8fa1c112",
   "metadata": {},
   "source": [
    "Finally, the following cell actually **shows** the interactive training demo.  You can create your own training file by edi"
   ]
  },
  {
   "cell_type": "code",
   "execution_count": 79,
   "id": "18da0b9e",
   "metadata": {},
   "outputs": [
    {
     "data": {
      "application/vnd.jupyter.widget-view+json": {
       "model_id": "2c8d33c4be924146bcdbdde243dd22a0",
       "version_major": 2,
       "version_minor": 0
      },
      "text/plain": [
       "VBox(children=(VBox(children=(HTML(value='<h2>Interactive Training Demo</h2>'), HTML(value='<p>Mimic training …"
      ]
     },
     "metadata": {},
     "output_type": "display_data"
    }
   ],
   "source": [
    "display(layout_train)"
   ]
  },
  {
   "cell_type": "markdown",
   "id": "3112fdbf",
   "metadata": {},
   "source": [
    "## Sampling\n",
    "\n",
    "the next cell defines an interactive sampling and prompting setup"
   ]
  },
  {
   "cell_type": "code",
   "execution_count": null,
   "id": "7f40a7a7",
   "metadata": {},
   "outputs": [],
   "source": [
    "prompter_toggle = widgets.ToggleButtons(\n",
    "    options=bin_colors,\n",
    "    description='Prompt:',\n",
    "    disabled=False,\n",
    "    button_style='', \n",
    "    # 'success', 'info', 'warning', 'danger' or ''\n",
    "#     icons=['check'] * 3\n",
    ")\n",
    "button_list = [widgets.Button(description='        ',\n",
    "    style={'button_color': Sticky(cur_color).color}, \n",
    "    layout=widgets.Layout(width='70px', height='50px'),\n",
    "    )  for cur_color in bin_colors]\n",
    "\n",
    "# [bt.on_click(lambda b: prompt(b,color=cur_color)) for bt, cur_color in zip(button_list, bin_colors)]\n",
    "button_list[0].on_click(lambda b: prompt(b,color=bin_colors[0]))\n",
    "button_list[1].on_click(lambda b: prompt(b,color=bin_colors[1]))\n",
    "button_list[2].on_click(lambda b: prompt(b,color=bin_colors[2]))\n",
    "button_list[3].on_click(lambda b: prompt(b,color=bin_colors[3]))\n",
    "# btfx = [lambda b: prompt(b,color=cur_color) \n",
    "#            for cur_color in bin_colors]\n",
    "\n",
    "# [bt.on_click(fx) \n",
    "#            for bt, fx in zip(button_list, btfx)]\n",
    "\n",
    "# button_list[2].style.button_color = 'lightblue'  # Highlight the blue button\n",
    "prompter_buttons = widgets.HBox(button_list)\n",
    "\n",
    "prompter_color = widgets.ColorsInput(\n",
    "    value=[],\n",
    "    allowed_tags=bin_colors,\n",
    "    # allow_duplicates=False\n",
    ")\n",
    "\n",
    "doc = Doc([\"white\"],max_width_words=5)\n",
    "html_output_sampler= widgets.Output()\n",
    "with html_output_sampler:\n",
    "    display(doc)\n",
    "\n",
    "load_button = widgets.Button(\n",
    "    description=\"select prompt\",\n",
    "    button_style='info', \n",
    "    layout=widgets.Layout(width='100px', height='30px')\n",
    ")\n",
    "def prompt(b, color):\n",
    "    with html_output_sampler:\n",
    "        \n",
    "    # my_demo.doc.reset_words(color_tags.value)\n",
    "        html_output_sampler.clear_output(wait=True)\n",
    "        doc.reset_words([color])\n",
    "        display(doc)\n",
    "        # display(to_train.sample_doc(prompter.value))\n",
    "\n",
    "sample_button = widgets.Button(\n",
    "    description=\"sample\",\n",
    "    button_style='info', \n",
    "    layout=widgets.Layout(width='100px', height='30px',background_color='lightblue'),\n",
    ")\n",
    "\n",
    "\n",
    "def sample(b):\n",
    "    with html_output_sampler:\n",
    "        html_output_sampler.clear_output(wait=True)\n",
    "        # doc.reset_words(prompter_color.value)\n",
    "        display(to_train.sample_doc(doc.get_word(0).name))\n",
    "\n",
    "\n",
    "\n",
    "load_button.on_click(prompt)\n",
    "sample_button.on_click(sample)\n",
    "# to_train.sample_doc('green')\n",
    "\n",
    "controls = widgets.HBox([prompter_buttons,sample_button])\n",
    "\n",
    "sampler = widgets.VBox([\n",
    "    widgets.HTML(\"<h2>Interactive Sampling Demo</h2>\"),\n",
    "    widgets.HTML(\"<p>click a sticky to prompt in that color then \" \\\n",
    "    \" click sample to get a document.</p>\"),controls,html_output_sampler])"
   ]
  },
  {
   "cell_type": "markdown",
   "id": "89b38813",
   "metadata": {},
   "source": [
    "The next cell displays the sampling demo:"
   ]
  },
  {
   "cell_type": "code",
   "execution_count": 81,
   "id": "bbc7b2a8",
   "metadata": {},
   "outputs": [
    {
     "data": {
      "application/vnd.jupyter.widget-view+json": {
       "model_id": "4d7ac8cb31c345ee861fd27ebe22eeb6",
       "version_major": 2,
       "version_minor": 0
      },
      "text/plain": [
       "VBox(children=(HTML(value='<h2>Interactive Sampling Demo</h2>'), HTML(value='<p>click a sticky to prompt in th…"
      ]
     },
     "metadata": {},
     "output_type": "display_data"
    }
   ],
   "source": [
    "display(sampler)"
   ]
  },
  {
   "cell_type": "code",
   "execution_count": null,
   "id": "03642afe",
   "metadata": {},
   "outputs": [],
   "source": []
  }
 ],
 "metadata": {
  "jupytext": {
   "default_lexer": "python"
  },
  "kernelspec": {
   "display_name": "Python 3",
   "name": "python3"
  },
  "language_info": {
   "codemirror_mode": {
    "name": "ipython",
    "version": 3
   },
   "file_extension": ".py",
   "mimetype": "text/x-python",
   "name": "python",
   "nbconvert_exporter": "python",
   "pygments_lexer": "ipython3",
   "version": "3.13.3"
  }
 },
 "nbformat": 4,
 "nbformat_minor": 5
}
