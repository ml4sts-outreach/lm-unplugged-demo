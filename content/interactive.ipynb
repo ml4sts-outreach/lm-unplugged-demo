{
 "cells": [
  {
   "cell_type": "markdown",
   "id": "ca82046e",
   "metadata": {},
   "source": [
    "# Interactive use\n",
    "\n",
    "Use the button to the right to make this page interactive!"
   ]
  },
  {
   "cell_type": "code",
   "execution_count": null,
   "id": "8ceb0cd7",
   "metadata": {
    "tags": [
     "remove-cell"
    ]
   },
   "outputs": [],
   "source": [
    "from lmunplugged import Bin,Table, Ball, Sticky, Doc, TrainDemo\n",
    "import ipywidgets as widgets\n",
    "from IPython.display import display, Markdown, HTML"
   ]
  },
  {
   "cell_type": "markdown",
   "id": "f0fde79c",
   "metadata": {},
   "source": [
    "When you click the button it iwll update the document"
   ]
  },
  {
   "cell_type": "code",
   "execution_count": null,
   "id": "ffc3dcc1",
   "metadata": {
    "tags": [
     "hide-cell"
    ]
   },
   "outputs": [],
   "source": [
    "doc_text_area_btn = widgets.Textarea(\n",
    "    value='purple blue pink blue white',\n",
    "    placeholder='Type something',\n",
    "    description='Document:',\n",
    "    disabled=False\n",
    ")\n",
    "\n",
    "button = widgets.Button(\n",
    "    description=\"render doc\",\n",
    "    button_style='info', \n",
    "    layout=widgets.Layout(width='100px', height='30px')\n",
    ")\n",
    "\n",
    "\n",
    "doc = Doc.from_string(doc_text_area_btn.value)\n",
    "\n",
    "html_output = widgets.Output()\n",
    "\n",
    "def update_doc_button(b):\n",
    "    print('clickd')\n",
    "    my_doc = Doc.from_string(doc_text_area_btn.value)\n",
    "    with html_output:\n",
    "        html_output.clear_output(wait=True)\n",
    "        display(my_doc)\n",
    "\n",
    "button.on_click(update_doc_button)\n",
    "ctrl = widgets.HBox([doc_text_area_btn, button])\n",
    "layout = widgets.VBox([ctrl,html_output])"
   ]
  },
  {
   "cell_type": "markdown",
   "id": "9e881355",
   "metadata": {},
   "source": [
    "The code is hidden, but will work!"
   ]
  },
  {
   "cell_type": "code",
   "execution_count": null,
   "id": "90a6cbed",
   "metadata": {},
   "outputs": [],
   "source": [
    "display(layout)"
   ]
  },
  {
   "cell_type": "markdown",
   "id": "039bafdd",
   "metadata": {},
   "source": [
    "## Using Colors"
   ]
  },
  {
   "cell_type": "code",
   "execution_count": null,
   "id": "1fa2e2f1",
   "metadata": {
    "tags": [
     "remove-cell"
    ]
   },
   "outputs": [],
   "source": [
    "# TODO: fix this demo to use Doc.is_valid and to disable buttons at end fo doc instead of resetting\n",
    "initital_doc = ['green','blue','purple','blue','pink','blue','white']\n",
    "bin_colors = ['purple','blue','green','pink']\n",
    "allowed_colors = bin_colors + ['white']\n",
    "color_tags = widgets.ColorsInput(\n",
    "    value=initital_doc,\n",
    "    allowed_tags=allowed_colors,\n",
    "    # allow_duplicates=False\n",
    ")\n",
    "\n",
    "my_doc = Doc.from_list(color_tags.value,max_width_words=5)\n",
    "to_train = Table.from_list(bin_colors)\n",
    "\n",
    "my_demo = TrainDemo(to_train, my_doc)\n",
    "\n",
    "html_output_demo= widgets.Output()\n",
    "with html_output_demo:\n",
    "    display(my_demo)\n",
    "\n",
    "def set_demo_button(b):\n",
    "    my_demo.doc.reset_words(color_tags.value)\n",
    "    my_demo.reset_training()\n",
    "    with html_output_demo:\n",
    "        html_output_demo.clear_output(wait=True)\n",
    "        display(my_demo)\n",
    "\n",
    "\n",
    "def train_step(b):    \n",
    "    with html_output_demo:\n",
    "        html_output_demo.clear_output(wait=True)\n",
    "        display(my_demo.train_next())\n",
    "\n",
    "\n",
    "\n",
    "demo_button = widgets.Button(\n",
    "    description=\"load doc\",\n",
    "    button_style='info', \n",
    "    layout=widgets.Layout(width='100px', height='30px')\n",
    ")\n",
    "\n",
    "step_button = widgets.Button(\n",
    "    description=\"step\",\n",
    "    button_style='success', \n",
    "    layout=widgets.Layout(width='100px', height='30px')\n",
    ")\n",
    "\n",
    "demo_button.on_click(set_demo_button)\n",
    "step_button.on_click(train_step)\n",
    "demo_ctrl = widgets.HBox([ demo_button,step_button])\n",
    "layout = widgets.VBox([color_tags,demo_ctrl,html_output_demo])"
   ]
  },
  {
   "cell_type": "code",
   "execution_count": null,
   "id": "18da0b9e",
   "metadata": {},
   "outputs": [],
   "source": [
    "display(layout)"
   ]
  },
  {
   "cell_type": "markdown",
   "id": "fcf08837",
   "metadata": {},
   "source": [
    "## free update no button (has errors)\n",
    "\n",
    "The code is hidden, but will work!"
   ]
  },
  {
   "cell_type": "code",
   "execution_count": null,
   "id": "5a3729fe",
   "metadata": {},
   "outputs": [],
   "source": [
    "doc_text_area = widgets.Textarea(\n",
    "    value='purple blue green pink blue white',\n",
    "    placeholder='Type something',\n",
    "    description='String:',\n",
    "    disabled=False\n",
    ")\n",
    "def update_doc(text_area):\n",
    "    my_doc = Doc.from_string(text_area)\n",
    "    display(my_doc)\n",
    "# doc_text_area.observe(update_doc, names='value')\n",
    "widgets.interact(update_doc,text_area = doc_text_area)\n"
   ]
  }
 ],
 "metadata": {
  "jupytext": {
   "default_lexer": "python"
  },
  "kernelspec": {
   "display_name": "Python 3",
   "name": "python3"
  }
 },
 "nbformat": 4,
 "nbformat_minor": 5
}
