{
 "cells": [
  {
   "cell_type": "markdown",
   "id": "6f3661cd",
   "metadata": {},
   "source": [
    "# Low code Example\n",
    "\n",
    "\n",
    "We have developed a Python module that allows for a low-code version\n",
    "that will visualize the unplugged activity in a website or jupyter notebook.\n",
    "\n",
    "It has some dependencies, so first, install those: \n"
   ]
  },
  {
   "cell_type": "code",
   "execution_count": null,
   "id": "5f0b3cf5",
   "metadata": {},
   "outputs": [],
   "source": [
    "%pip install svg.py numpy matplotlib pandas"
   ]
  },
  {
   "cell_type": "markdown",
   "id": "1b3a47ce",
   "metadata": {},
   "source": [
    "Next, we will import the library. \n",
    "\n",
    "The package is currently not broadly installable (not packaged), here we locally import it"
   ]
  },
  {
   "cell_type": "code",
   "execution_count": null,
   "id": "9f1a76fe",
   "metadata": {},
   "outputs": [],
   "source": [
    "from lmunplugged import Bin,Table, Ball, Sticky, Doc, TrainDemo"
   ]
  },
  {
   "cell_type": "markdown",
   "id": "08c8c55c",
   "metadata": {},
   "source": [
    "We can load a preset from a file, just to display it:"
   ]
  },
  {
   "cell_type": "code",
   "execution_count": null,
   "id": "990fdb80",
   "metadata": {},
   "outputs": [],
   "source": [
    "Table.from_csv('init.csv')"
   ]
  },
  {
   "cell_type": "markdown",
   "id": "6c0eec9a",
   "metadata": {},
   "source": [
    "or save it  to a variable for future use"
   ]
  },
  {
   "cell_type": "code",
   "execution_count": null,
   "id": "bd6e8c91",
   "metadata": {},
   "outputs": [],
   "source": [
    "preset = Table.from_csv('init.csv')\n",
    "preset"
   ]
  },
  {
   "cell_type": "markdown",
   "id": "c303acd7",
   "metadata": {},
   "source": [
    ":::{note}\n",
    "notice the balls are placed randomly each time it is loaded!\n",
    ":::\n",
    "\n",
    "We can sample whole documents:"
   ]
  },
  {
   "cell_type": "code",
   "execution_count": null,
   "id": "f88399f6",
   "metadata": {},
   "outputs": [],
   "source": [
    "preset.sample_doc('blue')"
   ]
  },
  {
   "cell_type": "code",
   "execution_count": null,
   "id": "2e4b0a30",
   "metadata": {},
   "outputs": [],
   "source": [
    "preset.sample_doc('purple')"
   ]
  },
  {
   "cell_type": "code",
   "execution_count": null,
   "id": "db50dd1f",
   "metadata": {},
   "outputs": [],
   "source": [
    "preset.sample_doc('green')"
   ]
  },
  {
   "cell_type": "markdown",
   "id": "e46a3bb0",
   "metadata": {},
   "source": [
    "## Visualizing the training process \n",
    "\n",
    "We can prepare to demo the training process from a fixed document:"
   ]
  },
  {
   "cell_type": "code",
   "execution_count": null,
   "id": "6b46206d",
   "metadata": {},
   "outputs": [],
   "source": [
    "train_doc = Doc.from_list(['green','blue','purple','blue','pink','blue','white'],\n",
    "                    max_width_words = 5)\n",
    "to_train = Table.from_list(['purple','blue','green','pink'])\n",
    "\n",
    "my_demo = TrainDemo(to_train, train_doc)\n",
    "my_demo"
   ]
  },
  {
   "cell_type": "markdown",
   "id": "8740d9ef",
   "metadata": {},
   "source": [
    "and train:"
   ]
  },
  {
   "cell_type": "code",
   "execution_count": null,
   "id": "92e14bc5",
   "metadata": {},
   "outputs": [],
   "source": [
    "my_demo.train_step(1)"
   ]
  },
  {
   "cell_type": "code",
   "execution_count": null,
   "id": "cbc5e76f",
   "metadata": {},
   "outputs": [],
   "source": [
    "my_demo.train_step(2)"
   ]
  },
  {
   "cell_type": "code",
   "execution_count": null,
   "id": "eaef4e3a",
   "metadata": {},
   "outputs": [],
   "source": [
    "my_demo.train_step(3)"
   ]
  },
  {
   "cell_type": "code",
   "execution_count": null,
   "id": "dc93203a",
   "metadata": {},
   "outputs": [],
   "source": [
    "my_demo.train_step(4)"
   ]
  },
  {
   "cell_type": "code",
   "execution_count": null,
   "id": "ced74a30",
   "metadata": {},
   "outputs": [],
   "source": [
    "my_demo.train_step(5)"
   ]
  },
  {
   "cell_type": "code",
   "execution_count": null,
   "id": "2fecf971",
   "metadata": {},
   "outputs": [],
   "source": [
    "my_demo.train_step(6)"
   ]
  },
  {
   "cell_type": "code",
   "execution_count": null,
   "id": "d6a99855",
   "metadata": {},
   "outputs": [],
   "source": [
    "print(my_demo.table.bins['green'].contents[0])"
   ]
  },
  {
   "cell_type": "markdown",
   "id": "171de82c",
   "metadata": {},
   "source": [
    "## Built up from components"
   ]
  },
  {
   "cell_type": "code",
   "execution_count": null,
   "id": "8527fbe0",
   "metadata": {},
   "outputs": [],
   "source": [
    "pinkbin = Bin('magenta')\n",
    "purplebin = Bin('purple',contents =[Ball('purple'),Ball('white')])\n",
    "greenbin = Bin('lime')\n",
    "bluebin = Bin('blue', contents =[Ball('purple'),Ball('blue'),\n",
    "                Ball('lime'),Ball('magenta'),Ball('white')])\n",
    "\n",
    "greenbin.add_ball(Ball('purple'))\n",
    "greenbin.add_ball(Ball('lime'))\n",
    "pinkbin.add_ball(Ball('white'))\n",
    "pinkbin.add_ball(Ball('lime'))\n",
    "pinkbin.add_ball(Ball('blue'))\n",
    "\n",
    "tab = Table([bluebin,pinkbin,greenbin,purplebin])\n",
    "tab"
   ]
  },
  {
   "cell_type": "code",
   "execution_count": null,
   "id": "7958cd0c",
   "metadata": {},
   "outputs": [],
   "source": [
    "bluebin.add_ball(Ball('lime'))\n",
    "bluebin.add_ball(Ball('magenta'))\n",
    "tab"
   ]
  },
  {
   "cell_type": "markdown",
   "id": "5b0d9cfc",
   "metadata": {},
   "source": [
    "let's start a doc by prompting it to be blue"
   ]
  },
  {
   "cell_type": "code",
   "execution_count": null,
   "id": "6766edd8",
   "metadata": {},
   "outputs": [],
   "source": [
    "prompt = [Sticky('blue')]\n",
    "doc = Doc(prompt)\n",
    "doc"
   ]
  },
  {
   "cell_type": "markdown",
   "id": "1d5fee06",
   "metadata": {},
   "source": [
    "Next, we sample from the blue bin and add that to our document"
   ]
  },
  {
   "cell_type": "code",
   "execution_count": null,
   "id": "c5588f92",
   "metadata": {},
   "outputs": [],
   "source": [
    "sampled_word = bluebin.sample()"
   ]
  },
  {
   "cell_type": "code",
   "execution_count": null,
   "id": "972e2a9f",
   "metadata": {
    "tags": [
     "remove-cell"
    ]
   },
   "outputs": [],
   "source": [
    "is_white = sampled_word=='white'\n",
    "continue_lang = {True:'since it is white we are done, but the cell below shows how we would continue',\n",
    "                False:'since it is not white, we continue'}"
   ]
  },
  {
   "cell_type": "markdown",
   "id": "667f4f55",
   "metadata": {},
   "source": [
    "we got {eval}`sampled_word`, lets add it to the doc:"
   ]
  },
  {
   "cell_type": "code",
   "execution_count": null,
   "id": "961febd9",
   "metadata": {},
   "outputs": [],
   "source": [
    "doc.add_word(sampled_word)"
   ]
  },
  {
   "cell_type": "markdown",
   "id": "4a3cdbb1",
   "metadata": {},
   "source": [
    "{eval}`continue_lang[is_white]`"
   ]
  },
  {
   "cell_type": "code",
   "execution_count": null,
   "id": "c0189aa8",
   "metadata": {},
   "outputs": [],
   "source": [
    "while not(sampled_word=='white'):\n",
    "    sampled_word = tab.sample_bin(sampled_word)\n",
    "    print(sampled_word)\n",
    "    doc.add_word(sampled_word)\n",
    "\n",
    "doc"
   ]
  }
 ],
 "metadata": {
  "jupytext": {
   "default_lexer": "python"
  },
  "kernelspec": {
   "display_name": "Python 3",
   "name": "python3"
  }
 },
 "nbformat": 4,
 "nbformat_minor": 5
}
