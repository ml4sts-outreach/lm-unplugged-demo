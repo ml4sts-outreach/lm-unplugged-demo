{
 "cells": [
  {
   "cell_type": "markdown",
   "id": "6f3661cd",
   "metadata": {},
   "source": [
    "# Low code Example - Pretrained model\n",
    "\n",
    "\n",
    "We have developed a Python module that allows for a low-code version\n",
    "that will visualize the unplugged activity in a website or jupyter notebook.\n",
    "\n",
    "It has some dependencies, so first, install those: \n"
   ]
  },
  {
   "cell_type": "code",
   "execution_count": null,
   "id": "5f0b3cf5",
   "metadata": {},
   "outputs": [],
   "source": [
    "%pip install svg.py numpy matplotlib pandas"
   ]
  },
  {
   "cell_type": "markdown",
   "id": "1b3a47ce",
   "metadata": {},
   "source": [
    "Next, we will import the library. \n",
    "\n",
    "The package is currently not broadly installable (not packaged), here we locally import it"
   ]
  },
  {
   "cell_type": "code",
   "execution_count": null,
   "id": "9f1a76fe",
   "metadata": {},
   "outputs": [],
   "source": [
    "from lmunplugged import Bin,Table, Ball, Sticky, Doc, TrainDemo"
   ]
  },
  {
   "cell_type": "markdown",
   "id": "08c8c55c",
   "metadata": {},
   "source": [
    "We can load a preset from a file, just to display it:"
   ]
  },
  {
   "cell_type": "code",
   "execution_count": null,
   "id": "990fdb80",
   "metadata": {},
   "outputs": [],
   "source": [
    "Table.from_csv('init.csv')"
   ]
  },
  {
   "cell_type": "markdown",
   "id": "6c0eec9a",
   "metadata": {},
   "source": [
    "or save it  to a variable for future use"
   ]
  },
  {
   "cell_type": "code",
   "execution_count": null,
   "id": "bd6e8c91",
   "metadata": {},
   "outputs": [],
   "source": [
    "preset = Table.from_csv('init.csv')\n",
    "preset"
   ]
  },
  {
   "cell_type": "markdown",
   "id": "c303acd7",
   "metadata": {},
   "source": [
    "\n",
    "notice the balls are placed randomly each time it is loaded! if you re-run the cell above. \n",
    "\n",
    "We can sample whole documents with a prompt. "
   ]
  },
  {
   "cell_type": "code",
   "execution_count": null,
   "id": "f88399f6",
   "metadata": {},
   "outputs": [],
   "source": [
    "preset.sample_doc('blue')"
   ]
  },
  {
   "cell_type": "markdown",
   "id": "aa346dea",
   "metadata": {},
   "source": [
    "Change the cell below to your own prompt"
   ]
  },
  {
   "cell_type": "code",
   "execution_count": null,
   "id": "2e4b0a30",
   "metadata": {},
   "outputs": [],
   "source": [
    "preset.sample_doc('')"
   ]
  },
  {
   "cell_type": "markdown",
   "id": "1b00c285",
   "metadata": {},
   "source": [
    "And another (could even repeat)"
   ]
  },
  {
   "cell_type": "code",
   "execution_count": null,
   "id": "db50dd1f",
   "metadata": {},
   "outputs": [],
   "source": [
    "preset.sample_doc('')"
   ]
  }
 ],
 "metadata": {
  "jupytext": {
   "default_lexer": "python"
  },
  "kernelspec": {
   "display_name": "Python 3",
   "name": "python3"
  }
 },
 "nbformat": 4,
 "nbformat_minor": 5
}
