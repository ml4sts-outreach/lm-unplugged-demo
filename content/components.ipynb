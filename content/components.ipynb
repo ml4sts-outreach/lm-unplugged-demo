{
 "cells": [
  {
   "cell_type": "markdown",
   "id": "6f3661cd",
   "metadata": {},
   "source": [
    "# Low code Example\n",
    "\n",
    "\n",
    "We have developed a Python module that allows for a low-code version\n",
    "that will visualize the unplugged activity in a website or jupyter notebook.\n",
    "\n",
    "It has some dependencies, so first, install those: \n"
   ]
  },
  {
   "cell_type": "code",
   "execution_count": null,
   "id": "5f0b3cf5",
   "metadata": {},
   "outputs": [],
   "source": [
    "%pip install svg.py numpy matplotlib pandas"
   ]
  },
  {
   "cell_type": "markdown",
   "id": "1b3a47ce",
   "metadata": {},
   "source": [
    "Next, we will import the library. \n",
    "\n",
    "The package is currently not broadly installable (not packaged), here we locally import it"
   ]
  },
  {
   "cell_type": "code",
   "execution_count": null,
   "id": "9f1a76fe",
   "metadata": {},
   "outputs": [],
   "source": [
    "from lmunplugged import Bin,Table, Ball, Sticky, Doc, TrainDemo"
   ]
  },
  {
   "cell_type": "markdown",
   "id": "171de82c",
   "metadata": {},
   "source": [
    "## Built up from components\n",
    "\n",
    "You can also build up your own demo from the individual components.  Try these examples out and then design your own demo! "
   ]
  },
  {
   "cell_type": "code",
   "execution_count": null,
   "id": "8527fbe0",
   "metadata": {},
   "outputs": [],
   "source": [
    "pinkbin = Bin('magenta')\n",
    "purplebin = Bin('purple',contents =[Ball('purple'),Ball('white')])\n",
    "greenbin = Bin('lime')\n",
    "bluebin = Bin('blue', contents =[Ball('purple'),Ball('blue'),\n",
    "                Ball('lime'),Ball('magenta'),Ball('white')])\n",
    "\n",
    "greenbin.add_ball(Ball('purple'))\n",
    "greenbin.add_ball(Ball('lime'))\n",
    "pinkbin.add_ball(Ball('white'))\n",
    "pinkbin.add_ball(Ball('lime'))\n",
    "pinkbin.add_ball(Ball('blue'))\n",
    "\n",
    "tab = Table([bluebin,pinkbin,greenbin,purplebin])\n",
    "tab"
   ]
  },
  {
   "cell_type": "code",
   "execution_count": null,
   "id": "7958cd0c",
   "metadata": {},
   "outputs": [],
   "source": [
    "bluebin.add_ball(Ball('lime'))\n",
    "bluebin.add_ball(Ball('magenta'))\n",
    "tab"
   ]
  },
  {
   "cell_type": "markdown",
   "id": "5b0d9cfc",
   "metadata": {},
   "source": [
    "let's start a doc by prompting it to be blue"
   ]
  },
  {
   "cell_type": "code",
   "execution_count": null,
   "id": "6766edd8",
   "metadata": {},
   "outputs": [],
   "source": [
    "prompt = [Sticky('blue')]\n",
    "doc = Doc(prompt)\n",
    "doc"
   ]
  },
  {
   "cell_type": "markdown",
   "id": "1d5fee06",
   "metadata": {},
   "source": [
    "Next, we sample from the blue bin and add that to our document"
   ]
  },
  {
   "cell_type": "code",
   "execution_count": null,
   "id": "c5588f92",
   "metadata": {},
   "outputs": [],
   "source": [
    "sampled_word = bluebin.sample()"
   ]
  },
  {
   "cell_type": "code",
   "execution_count": null,
   "id": "972e2a9f",
   "metadata": {
    "tags": [
     "remove-cell"
    ]
   },
   "outputs": [],
   "source": [
    "is_white = sampled_word=='white'\n"
   ]
  },
  {
   "cell_type": "markdown",
   "id": "667f4f55",
   "metadata": {},
   "source": [
    "add it to the document"
   ]
  },
  {
   "cell_type": "code",
   "execution_count": null,
   "id": "961febd9",
   "metadata": {},
   "outputs": [],
   "source": [
    "doc.add_word(sampled_word)"
   ]
  },
  {
   "cell_type": "markdown",
   "id": "4a3cdbb1",
   "metadata": {},
   "source": [
    "and continue if it's not white"
   ]
  },
  {
   "cell_type": "code",
   "execution_count": null,
   "id": "c0189aa8",
   "metadata": {},
   "outputs": [],
   "source": [
    "while not(sampled_word=='white'):\n",
    "    sampled_word = tab.sample_bin(sampled_word)\n",
    "    print(sampled_word)\n",
    "    doc.add_word(sampled_word)\n",
    "\n",
    "doc"
   ]
  }
 ],
 "metadata": {
  "jupytext": {
   "default_lexer": "python"
  },
  "kernelspec": {
   "display_name": "Python 3",
   "name": "python3"
  },
  "language_info": {
   "codemirror_mode": {
    "name": "ipython",
    "version": 3
   },
   "file_extension": ".py",
   "mimetype": "text/x-python",
   "name": "python",
   "nbconvert_exporter": "python",
   "pygments_lexer": "ipython3",
   "version": "3.13.3"
  }
 },
 "nbformat": 4,
 "nbformat_minor": 5
}
